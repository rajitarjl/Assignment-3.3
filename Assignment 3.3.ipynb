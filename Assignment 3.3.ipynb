{
 "cells": [
  {
   "cell_type": "markdown",
   "metadata": {},
   "source": [
    "ASsignment 3.3: Implement a function longestWord() that takes a list of words and returns the longest\n",
    "one.\n"
   ]
  },
  {
   "cell_type": "code",
   "execution_count": 3,
   "metadata": {},
   "outputs": [],
   "source": [
    "def getLongestWord (list):\n",
    "    max_length=0\n",
    "    for i in range (0,len(list)):\n",
    "        str1= list[i]\n",
    "        if (len(str1) > max_length):\n",
    "            max_length =len(str1)\n",
    "            longest_word=str1\n",
    "    print(longest_word)   "
   ]
  },
  {
   "cell_type": "code",
   "execution_count": 5,
   "metadata": {},
   "outputs": [
    {
     "name": "stdout",
     "output_type": "stream",
     "text": [
      "tablets\n"
     ]
    }
   ],
   "source": [
    "list =[\"word\",\"suite\",\"mobile\",\"tablets\"]\n",
    "getLongestWord (list)"
   ]
  },
  {
   "cell_type": "code",
   "execution_count": null,
   "metadata": {},
   "outputs": [],
   "source": []
  }
 ],
 "metadata": {
  "kernelspec": {
   "display_name": "Python 3",
   "language": "python",
   "name": "python3"
  },
  "language_info": {
   "codemirror_mode": {
    "name": "ipython",
    "version": 3
   },
   "file_extension": ".py",
   "mimetype": "text/x-python",
   "name": "python",
   "nbconvert_exporter": "python",
   "pygments_lexer": "ipython3",
   "version": "3.6.5"
  }
 },
 "nbformat": 4,
 "nbformat_minor": 2
}
